{
  "nbformat": 4,
  "nbformat_minor": 0,
  "metadata": {
    "colab": {
      "provenance": []
    },
    "kernelspec": {
      "name": "python3",
      "display_name": "Python 3"
    },
    "language_info": {
      "name": "python"
    }
  },
  "cells": [
    {
      "cell_type": "code",
      "source": [
        "def add_tax(price, tax_rate):\n",
        "  final_price = price * (1 + tax_rate/100)\n",
        "  return final_price\n",
        "\n",
        "result = add_tax(110,10)\n",
        "print(result)\n"
      ],
      "metadata": {
        "colab": {
          "base_uri": "https://localhost:8080/"
        },
        "id": "gO1Xa5J5ycER",
        "outputId": "16b2cd93-6750-44c3-f749-a68072fb0815"
      },
      "execution_count": 13,
      "outputs": [
        {
          "output_type": "stream",
          "name": "stdout",
          "text": [
            "121.00000000000001\n"
          ]
        }
      ]
    },
    {
      "cell_type": "code",
      "source": [],
      "metadata": {
        "id": "cr4kcrOa1Dw7"
      },
      "execution_count": null,
      "outputs": []
    }
  ]
}