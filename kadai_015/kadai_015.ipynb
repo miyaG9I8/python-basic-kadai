{
  "nbformat": 4,
  "nbformat_minor": 0,
  "metadata": {
    "colab": {
      "provenance": []
    },
    "kernelspec": {
      "name": "python3",
      "display_name": "Python 3"
    },
    "language_info": {
      "name": "python"
    }
  },
  "cells": [
    {
      "cell_type": "code",
      "execution_count": 4,
      "metadata": {
        "colab": {
          "base_uri": "https://localhost:8080/"
        },
        "id": "rnIeYzNkk5Ya",
        "outputId": "55030c77-9f65-4102-c88d-3e1f8c0ac194"
      },
      "outputs": [
        {
          "output_type": "stream",
          "name": "stdout",
          "text": [
            "名前:山田太郎\n",
            "年齢:25\n"
          ]
        }
      ],
      "source": [
        "class Human:\n",
        "  def __init__(self, name:str, age:int):\n",
        "    self.name = name\n",
        "    self.age = age\n",
        "\n",
        "  def printinfo(self):\n",
        "    print(f\"名前:{self.name}\")\n",
        "    print(f\"年齢:{self.age}\")\n",
        "\n",
        "person = Human(\"山田太郎\", 25)\n",
        "\n",
        "person.printinfo()"
      ]
    },
    {
      "cell_type": "code",
      "source": [],
      "metadata": {
        "id": "xjItaSHXmnBv"
      },
      "execution_count": null,
      "outputs": []
    }
  ]
}