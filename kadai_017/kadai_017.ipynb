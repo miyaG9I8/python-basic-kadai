{
  "nbformat": 4,
  "nbformat_minor": 0,
  "metadata": {
    "colab": {
      "provenance": []
    },
    "kernelspec": {
      "name": "python3",
      "display_name": "Python 3"
    },
    "language_info": {
      "name": "python"
    }
  },
  "cells": [
    {
      "cell_type": "code",
      "execution_count": 5,
      "metadata": {
        "colab": {
          "base_uri": "https://localhost:8080/"
        },
        "id": "8GicVfjujkLY",
        "outputId": "fa2f519c-f438-4c60-abf6-441a79587ec6"
      },
      "outputs": [
        {
          "output_type": "stream",
          "name": "stdout",
          "text": [
            "一郎は大人ではありません\n",
            "二郎は大人です\n",
            "三郎は大人です\n"
          ]
        }
      ],
      "source": [
        "class Human:\n",
        "  def __init__(self, name:str, age:int):\n",
        "    self.name = name\n",
        "    self.age = age\n",
        "\n",
        "  def check_adult(self):\n",
        "    if self.age >= 20:\n",
        "      print(f\"{self.name}は大人です\")\n",
        "    else:\n",
        "      print(f\"{self.name}は大人ではありません\")\n",
        "\n",
        "people = [Human(\"一郎\",18), Human(\"二郎\",20), Human(\"三郎\",23)]\n",
        "\n",
        "for human in people:\n",
        "  human.check_adult()\n",
        ""
      ]
    },
    {
      "cell_type": "code",
      "source": [],
      "metadata": {
        "id": "khER44GDmCM0"
      },
      "execution_count": null,
      "outputs": []
    }
  ]
}