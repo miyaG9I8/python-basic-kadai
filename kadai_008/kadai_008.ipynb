{
  "nbformat": 4,
  "nbformat_minor": 0,
  "metadata": {
    "colab": {
      "provenance": []
    },
    "kernelspec": {
      "name": "python3",
      "display_name": "Python 3"
    },
    "language_info": {
      "name": "python"
    }
  },
  "cells": [
    {
      "cell_type": "code",
      "execution_count": 2,
      "metadata": {
        "colab": {
          "base_uri": "https://localhost:8080/"
        },
        "id": "szLqro4Y3pR4",
        "outputId": "e8f96846-d143-41c0-d2c0-61d7788eb5be"
      },
      "outputs": [
        {
          "output_type": "stream",
          "name": "stdout",
          "text": [
            "FizzBuzz\n"
          ]
        }
      ],
      "source": [
        "var = 30\n",
        "\n",
        "if var % 3 == 0 and var % 5 ==0:\n",
        "  print(\"FizzBuzz\")\n",
        "elif var % 5 == 0:\n",
        "  print(\"Buzz\")\n",
        "elif var % 3 == 0:\n",
        "  print(\"Fizz\")\n",
        "else:\n",
        "  print(var)"
      ]
    },
    {
      "cell_type": "code",
      "source": [],
      "metadata": {
        "id": "A-c_DjU73uq4"
      },
      "execution_count": null,
      "outputs": []
    }
  ]
}