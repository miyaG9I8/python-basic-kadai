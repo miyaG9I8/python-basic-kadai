{
  "nbformat": 4,
  "nbformat_minor": 0,
  "metadata": {
    "colab": {
      "provenance": []
    },
    "kernelspec": {
      "name": "python3",
      "display_name": "Python 3"
    },
    "language_info": {
      "name": "python"
    }
  },
  "cells": [
    {
      "cell_type": "code",
      "source": [
        "# price1 = 100\n",
        "# price2 = 200\n",
        "\n",
        "def total(price1, price2):\n",
        "    tax = 1.1\n",
        "    return price1 + price2\n",
        "\n",
        "print (total(100, 200) * tax)"
      ],
      "metadata": {
        "colab": {
          "base_uri": "https://localhost:8080/"
        },
        "id": "AsX1MgzeUowD",
        "outputId": "4f6001d7-0ab2-4b61-80e3-f7754918e5d8"
      },
      "execution_count": 11,
      "outputs": [
        {
          "output_type": "stream",
          "name": "stdout",
          "text": [
            "330.0\n"
          ]
        }
      ]
    },
    {
      "cell_type": "code",
      "source": [],
      "metadata": {
        "id": "BBs46PfyVIJA"
      },
      "execution_count": null,
      "outputs": []
    }
  ]
}